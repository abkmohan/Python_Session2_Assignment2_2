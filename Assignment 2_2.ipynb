{
 "cells": [
  {
   "cell_type": "code",
   "execution_count": 3,
   "metadata": {},
   "outputs": [
    {
     "name": "stdout",
     "output_type": "stream",
     "text": [
      "*\n",
      "**\n",
      "***\n",
      "****\n",
      "*****\n",
      "****\n",
      "***\n",
      "**\n",
      "*\n"
     ]
    }
   ],
   "source": [
    "#Course: Data Science Masters\n",
    "#Title: Python - Assignment 2.2\n",
    "#Problem Statement: Create the pattern using nested for loop in Python.\n",
    "#Tool: Jupyter notebook \n",
    "#Author: Krishna A\n",
    "#Date: 7-2-2018 (DD/MM/YYYY)\n",
    "\n",
    "for iInt in range(1,10):  #First for loop to get 9 rows\n",
    "    if iInt <= 5:\n",
    "        print(\"*\" * iInt) #To replicate * in each row as per requirement\n",
    "        continue          #To continue the program execution\n",
    "    else:\n",
    "        for iInt in range(4,0,-1):  #Nested for loop to get reverse order\n",
    "            print(\"*\" * iInt)\n",
    "        break                      #To break program execution after getting the result"
   ]
  },
  {
   "cell_type": "code",
   "execution_count": null,
   "metadata": {
    "collapsed": true
   },
   "outputs": [],
   "source": []
  }
 ],
 "metadata": {
  "kernelspec": {
   "display_name": "Python 3",
   "language": "python",
   "name": "python3"
  },
  "language_info": {
   "codemirror_mode": {
    "name": "ipython",
    "version": 3
   },
   "file_extension": ".py",
   "mimetype": "text/x-python",
   "name": "python",
   "nbconvert_exporter": "python",
   "pygments_lexer": "ipython3",
   "version": "3.6.3"
  }
 },
 "nbformat": 4,
 "nbformat_minor": 2
}
